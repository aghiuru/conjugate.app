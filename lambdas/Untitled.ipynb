{
 "cells": [
  {
   "cell_type": "code",
   "execution_count": 3,
   "metadata": {},
   "outputs": [
    {
     "data": {
      "text/plain": [
       "{'verb': 'consultar',\n",
       " 'person': 5,\n",
       " 'regular?': True,\n",
       " 'conjugation': 'consultarien',\n",
       " 'tags': ['first conjugation', 'regular'],\n",
       " 'translations': {'nil': None,\n",
       "  'it-IT': 'consultare',\n",
       "  'nl-NL': 'consulteren; raadplegen',\n",
       "  'fr-FR': 'consulter',\n",
       "  'en-GB': 'to consult',\n",
       "  'es-ES': 'consultar',\n",
       "  'pt-PT': 'consultar'},\n",
       " 'pronoun': 'ells, elles, vostès'}"
      ]
     },
     "execution_count": 3,
     "metadata": {},
     "output_type": "execute_result"
    }
   ],
   "source": [
    "import json\n",
    "import random\n",
    "from handler import *\n",
    "\n",
    "cat_verbs = json.load(open('cat.json'))\n",
    "\n",
    "conjugations = cat_verbs['conjugations']\n",
    "\n",
    "random_index = random.randint(0, len(conjugations))\n",
    "conj = conjugations[random_index][0]\n",
    "\n",
    "pronouns = cat_verbs['pronouns']\n",
    "person = conj['person']\n",
    "pronoun = pronouns[str(person)] if person is not None else None\n",
    "\n",
    "verbs = cat_verbs['verbs']\n",
    "verb = verbs[conj['verb']]\n",
    "\n",
    "{\n",
    "    'verb': conj['verb'],\n",
    "    'person': conj['person'],\n",
    "    'regular?': conj['regular?'],\n",
    "    'conjugation': conj['conjugation'],\n",
    "    'tags': verb['tags'],\n",
    "    'translations': verb['translations'],\n",
    "    'pronoun': pronoun,\n",
    "}\n",
    "\n",
    "# {:verb \"renyir\",\n",
    "    #  :person 2,\n",
    "    #  :tense :future,\n",
    "    #  :regular? true,\n",
    "    #  :conjugation \"renyirà\",\n",
    "    #  :tags [\"third conjugation\" \"regular\"],\n",
    "    #  :translations {\"en-GB\" \"to argue; to quarrel; to twist; to wrangle\", \"es-ES\" \"reñir\", \"fr-FR\" \"gronder\", nil nil},\n",
    "    #  :pronoun \"ell, ella, vostè\"}"
   ]
  },
  {
   "cell_type": "code",
   "execution_count": null,
   "metadata": {},
   "outputs": [],
   "source": []
  }
 ],
 "metadata": {
  "kernelspec": {
   "display_name": "Python 3",
   "language": "python",
   "name": "python3"
  },
  "language_info": {
   "codemirror_mode": {
    "name": "ipython",
    "version": 3
   },
   "file_extension": ".py",
   "mimetype": "text/x-python",
   "name": "python",
   "nbconvert_exporter": "python",
   "pygments_lexer": "ipython3",
   "version": "3.7.2"
  }
 },
 "nbformat": 4,
 "nbformat_minor": 2
}
